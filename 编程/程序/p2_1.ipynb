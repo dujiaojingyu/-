{
 "cells": [
  {
   "cell_type": "code",
   "execution_count": 2,
   "metadata": {},
   "outputs": [
    {
     "name": "stdout",
     "output_type": "stream",
     "text": [
      "不妨猜一下我心中想的一个数字：3\n",
      "很遗憾！你猜错了！\n",
      "游戏结束，不玩了\n"
     ]
    }
   ],
   "source": [
    "\"\"\"---第一个小游戏---\"\"\"\n",
    "\n",
    "temp = input(\"不妨猜一下我心中想的一个数字：\")\n",
    "gess = int(temp)\n",
    "if gess == 8:\n",
    "    print(\"我草！你是我肚子里的蛔虫吗？\")\n",
    "    print(\"哼！猜中了也没奖！\")\n",
    "else :\n",
    "    print(\"很遗憾！你猜错了！\")\n",
    "print(\"游戏结束，不玩了\")"
   ]
  },
  {
   "cell_type": "code",
   "execution_count": null,
   "metadata": {
    "collapsed": true
   },
   "outputs": [],
   "source": []
  }
 ],
 "metadata": {
  "kernelspec": {
   "display_name": "Python 3",
   "language": "python",
   "name": "python3"
  },
  "language_info": {
   "codemirror_mode": {
    "name": "ipython",
    "version": 3
   },
   "file_extension": ".py",
   "mimetype": "text/x-python",
   "name": "python",
   "nbconvert_exporter": "python",
   "pygments_lexer": "ipython3",
   "version": "3.6.3"
  }
 },
 "nbformat": 4,
 "nbformat_minor": 2
}
