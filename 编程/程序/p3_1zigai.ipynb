{
 "cells": [
  {
   "cell_type": "code",
   "execution_count": null,
   "metadata": {},
   "outputs": [],
   "source": [
    "\"\"\"---第一个小游戏---\"\"\"\n",
    "import random\n",
    "\n",
    "secret = random.randint(1,10)\n",
    "\n",
    "temp = input(\"不妨猜一下我心中想的一个数字：\")\n",
    "gess = int(temp)\n",
    "while gess != secret:\n",
    "        if gess > secret:\n",
    "            print(\"哎呀！大了大了！\")\n",
    "        else :\n",
    "            print(\"哎呀！小了小了！\")\n",
    "            \n",
    "        temp = input(\"猜错了请重新输入：\")\n",
    "        gess = int(temp)\n",
    "    \n",
    "        if gess == secret:\n",
    "            print(\"我草！你是我肚子里的蛔虫吗？\")\n",
    "            print(\"哼！猜中了也没奖！\")\n",
    "\n",
    "\n",
    "print(\"游戏结束，不玩了\")"
   ]
  },
  {
   "cell_type": "code",
   "execution_count": null,
   "metadata": {
    "collapsed": true
   },
   "outputs": [],
   "source": []
  }
 ],
 "metadata": {
  "kernelspec": {
   "display_name": "Python 3",
   "language": "python",
   "name": "python3"
  },
  "language_info": {
   "codemirror_mode": {
    "name": "ipython",
    "version": 3
   },
   "file_extension": ".py",
   "mimetype": "text/x-python",
   "name": "python",
   "nbconvert_exporter": "python",
   "pygments_lexer": "ipython3",
   "version": "3.6.3"
  }
 },
 "nbformat": 4,
 "nbformat_minor": 2
}
