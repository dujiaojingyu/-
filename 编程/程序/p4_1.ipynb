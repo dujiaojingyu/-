{
 "cells": [
  {
   "cell_type": "code",
   "execution_count": 2,
   "metadata": {},
   "outputs": [
    {
     "name": "stdout",
     "output_type": "stream",
     "text": [
      "请输入一个分数：1\n",
      "D\n"
     ]
    }
   ],
   "source": [
    "score = int(input(\"请输入一个分数：\"))\n",
    "if score >= 90:\n",
    "    print(\"A\")\n",
    "else:\n",
    "    if 90 > score >= 80:\n",
    "            print(\"B\")\n",
    "    else:\n",
    "        if 80 > score >= 60:\n",
    "            print(\"C\")\n",
    "        else:\n",
    "            if 60 > score >=0:\n",
    "                print(\"D\")\n",
    "        "
   ]
  },
  {
   "cell_type": "code",
   "execution_count": 1,
   "metadata": {},
   "outputs": [
    {
     "name": "stdout",
     "output_type": "stream",
     "text": [
      "请输入一个分数：1\n"
     ]
    }
   ],
   "source": [
    "score = int(input(\"请输入一个分数：\"))\n",
    "while True:\n",
    "    if score < 0 and score >100:\n",
    "        score = int(print(\"输入错误！请重新输入：\"))\n",
    "    else:\n",
    "        break\n",
    "    \n",
    "    if score >= 90:\n",
    "        print(\"A\")\n",
    "    else:\n",
    "        if 90 > score >= 80:\n",
    "                print(\"B\")\n",
    "        else:\n",
    "            if 80 > score >= 60:\n",
    "                print(\"C\")\n",
    "            else:\n",
    "                if 60 > score >=0:\n",
    "                    print(\"D\")\n"
   ]
  },
  {
   "cell_type": "code",
   "execution_count": null,
   "metadata": {
    "collapsed": true
   },
   "outputs": [],
   "source": []
  }
 ],
 "metadata": {
  "kernelspec": {
   "display_name": "Python 3",
   "language": "python",
   "name": "python3"
  },
  "language_info": {
   "codemirror_mode": {
    "name": "ipython",
    "version": 3
   },
   "file_extension": ".py",
   "mimetype": "text/x-python",
   "name": "python",
   "nbconvert_exporter": "python",
   "pygments_lexer": "ipython3",
   "version": "3.6.3"
  }
 },
 "nbformat": 4,
 "nbformat_minor": 2
}
